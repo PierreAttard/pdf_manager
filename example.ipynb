{
 "cells": [
  {
   "cell_type": "code",
   "execution_count": 1,
   "id": "d6523d85-5117-48c4-a6d1-d31bff85106a",
   "metadata": {},
   "outputs": [],
   "source": [
    "from pypdf import PdfReader, PdfWriter\n",
    "from dotenv import load_dotenv\n",
    "import os"
   ]
  },
  {
   "cell_type": "code",
   "execution_count": 2,
   "id": "c422e843-46c5-449a-83e9-3c2ad0a5300e",
   "metadata": {},
   "outputs": [
    {
     "data": {
      "text/plain": [
       "True"
      ]
     },
     "execution_count": 2,
     "metadata": {},
     "output_type": "execute_result"
    }
   ],
   "source": [
    "load_dotenv()"
   ]
  },
  {
   "cell_type": "markdown",
   "id": "4a6d69e4-346c-4c4f-876e-954796a16836",
   "metadata": {},
   "source": [
    "# Extraire la première page du pdf"
   ]
  },
  {
   "cell_type": "code",
   "execution_count": 3,
   "id": "97ad6a5a-d3fb-43a4-9dac-2e5639b1b47d",
   "metadata": {},
   "outputs": [],
   "source": [
    "file_name = os.environ[\"FILE_PATH\"]\n",
    "pages = (0, 1)\n",
    "\n",
    "reader = PdfReader(file_name)\n",
    "writer = PdfWriter()\n",
    "page_range = range(pages[0], pages[1] + 1)\n",
    "\n",
    "for page_num, page in enumerate(reader.pages, 1):\n",
    "    if page_num in page_range:\n",
    "        writer.add_page(page)\n",
    "\n",
    "with open(f'{file_name}_page_{pages[0]}-{pages[1]}.pdf', 'wb') as out:\n",
    "    writer.write(out)"
   ]
  },
  {
   "cell_type": "markdown",
   "id": "5feafd69-a2f0-4181-8ed2-ae3db2bbdcc9",
   "metadata": {},
   "source": [
    "# Extraire de la n à la m pages du pdf"
   ]
  },
  {
   "cell_type": "code",
   "execution_count": 12,
   "id": "0081d828-81f9-4bd5-9468-48b83c449949",
   "metadata": {},
   "outputs": [],
   "source": [
    "n, m = 5, 6\n",
    "\n",
    "file_name = os.environ[\"FILE_PATH\"]\n",
    "pages = (n, m)\n",
    "\n",
    "reader = PdfReader(file_name)\n",
    "writer = PdfWriter()\n",
    "page_range = range(pages[0], pages[1] + 1)\n",
    "\n",
    "for page_num, page in enumerate(reader.pages, 1):\n",
    "    if page_num in page_range:\n",
    "        writer.add_page(page)\n",
    "\n",
    "with open(f'{file_name}_page_{pages[0]}-{pages[1]}.pdf', 'wb') as out:\n",
    "    writer.write(out)"
   ]
  },
  {
   "cell_type": "code",
   "execution_count": null,
   "id": "f38ae64b-0841-4c99-b03e-67bb2155f136",
   "metadata": {},
   "outputs": [],
   "source": []
  },
  {
   "cell_type": "code",
   "execution_count": null,
   "id": "d72481a5-4fdb-4f48-aeb7-c9b46dee91ab",
   "metadata": {},
   "outputs": [],
   "source": []
  },
  {
   "cell_type": "code",
   "execution_count": null,
   "id": "36aa4389-9ace-461d-94d1-5fc813310130",
   "metadata": {},
   "outputs": [],
   "source": []
  }
 ],
 "metadata": {
  "kernelspec": {
   "display_name": "Python 3 (ipykernel)",
   "language": "python",
   "name": "python3"
  },
  "language_info": {
   "codemirror_mode": {
    "name": "ipython",
    "version": 3
   },
   "file_extension": ".py",
   "mimetype": "text/x-python",
   "name": "python",
   "nbconvert_exporter": "python",
   "pygments_lexer": "ipython3",
   "version": "3.13.2"
  }
 },
 "nbformat": 4,
 "nbformat_minor": 5
}
