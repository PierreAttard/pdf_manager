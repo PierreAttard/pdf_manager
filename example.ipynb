{
 "cells": [
  {
   "cell_type": "code",
   "execution_count": 5,
   "id": "d6523d85-5117-48c4-a6d1-d31bff85106a",
   "metadata": {},
   "outputs": [],
   "source": [
    "from PyPDF2 import PdfReader, PdfWriter\n",
    "from dotenv import load_dotenv\n",
    "import os"
   ]
  },
  {
   "cell_type": "code",
   "execution_count": 7,
   "id": "c422e843-46c5-449a-83e9-3c2ad0a5300e",
   "metadata": {},
   "outputs": [
    {
     "data": {
      "text/plain": [
       "True"
      ]
     },
     "execution_count": 7,
     "metadata": {},
     "output_type": "execute_result"
    }
   ],
   "source": [
    "load_dotenv()"
   ]
  },
  {
   "cell_type": "code",
   "execution_count": 10,
   "id": "97ad6a5a-d3fb-43a4-9dac-2e5639b1b47d",
   "metadata": {},
   "outputs": [],
   "source": [
    "file_name = os.environ[\"FILE_PATH\"]\n",
    "pages = (0, 1)\n",
    "\n",
    "reader = PdfReader(file_name)\n",
    "writer = PdfWriter()\n",
    "page_range = range(pages[0], pages[1] + 1)\n",
    "\n",
    "for page_num, page in enumerate(reader.pages, 1):\n",
    "    if page_num in page_range:\n",
    "        writer.add_page(page)\n",
    "\n",
    "with open(f'{file_name}_page_{pages[0]}-{pages[1]}.pdf', 'wb') as out:\n",
    "    writer.write(out)"
   ]
  },
  {
   "cell_type": "code",
   "execution_count": null,
   "id": "b1d8aefc-b969-46f1-94a4-d387ed7ea68d",
   "metadata": {},
   "outputs": [],
   "source": []
  }
 ],
 "metadata": {
  "kernelspec": {
   "display_name": "Python 3 (ipykernel)",
   "language": "python",
   "name": "python3"
  },
  "language_info": {
   "codemirror_mode": {
    "name": "ipython",
    "version": 3
   },
   "file_extension": ".py",
   "mimetype": "text/x-python",
   "name": "python",
   "nbconvert_exporter": "python",
   "pygments_lexer": "ipython3",
   "version": "3.12.8"
  }
 },
 "nbformat": 4,
 "nbformat_minor": 5
}
